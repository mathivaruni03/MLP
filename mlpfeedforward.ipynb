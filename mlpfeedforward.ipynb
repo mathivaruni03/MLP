{
 "cells": [
  {
   "cell_type": "code",
   "execution_count": 1,
   "id": "20d6f387-93df-46f8-b7e0-4d1baeef3a72",
   "metadata": {},
   "outputs": [
    {
     "name": "stdout",
     "output_type": "stream",
     "text": [
      "Epoch 0, Error: 0.499719457191812\n",
      "Epoch 1000, Error: 0.4836556182957917\n",
      "Epoch 2000, Error: 0.41873926102503156\n",
      "Epoch 3000, Error: 0.34921509854814453\n",
      "Epoch 4000, Error: 0.20108364568963688\n",
      "Epoch 5000, Error: 0.12367514251925728\n",
      "Epoch 6000, Error: 0.09123893794135099\n",
      "Epoch 7000, Error: 0.07392666335281414\n",
      "Epoch 8000, Error: 0.06309659324589187\n",
      "Epoch 9000, Error: 0.05561849661504595\n",
      "Predictions:\n",
      "[[0.04704738]\n",
      " [0.95104266]\n",
      " [0.95125732]\n",
      " [0.05566845]]\n"
     ]
    }
   ],
   "source": [
    "import numpy as np\n",
    "\n",
    "# Activation function (Sigmoid)\n",
    "def sigmoid(x):\n",
    "    return 1 / (1 + np.exp(-x))\n",
    "\n",
    "# Derivative of Sigmoid\n",
    "\n",
    "def sigmoid_derivative(x):\n",
    "    return x * (1 - x)\n",
    "\n",
    "# Feedforward MLP class\n",
    "class MLP:\n",
    "    def __init__(self, input_size, hidden_size, output_size):\n",
    "        # Initialize weights and biases\n",
    "        self.weights_input_hidden = np.random.uniform(-1, 1, (input_size, hidden_size))\n",
    "        self.weights_hidden_output = np.random.uniform(-1, 1, (hidden_size, output_size))\n",
    "        self.bias_hidden = np.random.uniform(-1, 1, (1, hidden_size))\n",
    "        self.bias_output = np.random.uniform(-1, 1, (1, output_size))\n",
    "    \n",
    "    def feedforward(self, x):\n",
    "        # Hidden layer\n",
    "        self.hidden_input = np.dot(x, self.weights_input_hidden) + self.bias_hidden\n",
    "        self.hidden_output = sigmoid(self.hidden_input)\n",
    "        \n",
    "        # Output layer\n",
    "        self.final_input = np.dot(self.hidden_output, self.weights_hidden_output) + self.bias_output\n",
    "        self.final_output = sigmoid(self.final_input)\n",
    "        \n",
    "        return self.final_output\n",
    "    \n",
    "    def train(self, X, y, epochs=10000, learning_rate=0.1):\n",
    "        for epoch in range(epochs):\n",
    "            # Forward propagation\n",
    "            output = self.feedforward(X)\n",
    "            \n",
    "            # Compute error\n",
    "            error = y - output\n",
    "            \n",
    "            # Backpropagation\n",
    "            d_output = error * sigmoid_derivative(output)\n",
    "            error_hidden = d_output.dot(self.weights_hidden_output.T)\n",
    "            d_hidden = error_hidden * sigmoid_derivative(self.hidden_output)\n",
    "            \n",
    "            # Update weights and biases\n",
    "            self.weights_hidden_output += self.hidden_output.T.dot(d_output) * learning_rate\n",
    "            self.bias_output += np.sum(d_output, axis=0, keepdims=True) * learning_rate\n",
    "            self.weights_input_hidden += X.T.dot(d_hidden) * learning_rate\n",
    "            self.bias_hidden += np.sum(d_hidden, axis=0, keepdims=True) * learning_rate\n",
    "            \n",
    "            if epoch % 1000 == 0:\n",
    "                print(f'Epoch {epoch}, Error: {np.mean(np.abs(error))}')\n",
    "\n",
    "# Example usage\n",
    "if __name__ == \"__main__\":\n",
    "    # XOR problem dataset\n",
    "    X = np.array([[0, 0], [0, 1], [1, 0], [1, 1]])\n",
    "    y = np.array([[0], [1], [1], [0]])\n",
    "    \n",
    "    mlp = MLP(input_size=2, hidden_size=4, output_size=1)\n",
    "    mlp.train(X, y, epochs=10000, learning_rate=0.1)\n",
    "    \n",
    "    print(\"Predictions:\")\n",
    "    print(mlp.feedforward(X))\n"
   ]
  },
  {
   "cell_type": "code",
   "execution_count": null,
   "id": "fff4a284-7fce-4d72-987c-b9452c501b63",
   "metadata": {},
   "outputs": [],
   "source": []
  }
 ],
 "metadata": {
  "kernelspec": {
   "display_name": "Python [conda env:base] *",
   "language": "python",
   "name": "conda-base-py"
  },
  "language_info": {
   "codemirror_mode": {
    "name": "ipython",
    "version": 3
   },
   "file_extension": ".py",
   "mimetype": "text/x-python",
   "name": "python",
   "nbconvert_exporter": "python",
   "pygments_lexer": "ipython3",
   "version": "3.12.7"
  }
 },
 "nbformat": 4,
 "nbformat_minor": 5
}
