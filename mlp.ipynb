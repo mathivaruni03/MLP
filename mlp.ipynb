{
 "cells": [
  {
   "cell_type": "code",
   "execution_count": 2,
   "id": "4b66d9b0-bee5-4731-a69e-7e9fbfd0a533",
   "metadata": {},
   "outputs": [
    {
     "name": "stdout",
     "output_type": "stream",
     "text": [
      "\n",
      "MLP for XOR gate\n",
      "Input [0 0] => Output 0\n",
      "Input [0 1] => Output 1\n",
      "Input [1 0] => Output 1\n",
      "Input [1 1] => Output 0\n"
     ]
    }
   ],
   "source": [
    "import numpy as np\n",
    "\n",
    "class MLP:\n",
    "    def __init__(self, input_size, hidden_size, learning_rate=0.1, epochs=10000):\n",
    "        self.learning_rate = learning_rate\n",
    "        self.epochs = epochs\n",
    "        self.hidden_weights = np.random.rand(hidden_size, input_size + 1)  # +1 for bias\n",
    "        self.output_weights = np.random.rand(hidden_size + 1)  # +1 for bias\n",
    "\n",
    "    def sigmoid(self, x):\n",
    "        return 1 / (1 + np.exp(-x))\n",
    "\n",
    "    def sigmoid_derivative(self, x):\n",
    "        return x * (1 - x)\n",
    "\n",
    "    def predict(self, x):\n",
    "        x = np.insert(x, 0, 1)  \n",
    "        hidden_input = np.dot(self.hidden_weights, x)\n",
    "        hidden_output = self.sigmoid(hidden_input)\n",
    "        hidden_output = np.insert(hidden_output, 0, 1)  # Bias\n",
    "        final_output = self.sigmoid(np.dot(self.output_weights, hidden_output))\n",
    "        return 1 if final_output >= 0.5 else 0\n",
    "\n",
    "    def train(self, X, y):\n",
    "        X = np.insert(X, 0, 1, axis=1)  \n",
    "        for _ in range(self.epochs):\n",
    "            for i in range(len(y)):\n",
    "                # Forward pass\n",
    "                hidden_input = np.dot(self.hidden_weights, X[i])\n",
    "                hidden_output = self.sigmoid(hidden_input)\n",
    "                hidden_output = np.insert(hidden_output, 0, 1)  \n",
    "                final_output = self.sigmoid(np.dot(self.output_weights, hidden_output))\n",
    "\n",
    "            \n",
    "                error = y[i] - final_output\n",
    "                output_delta = error * self.sigmoid_derivative(final_output)\n",
    "\n",
    "                hidden_errors = output_delta * self.output_weights[1:]\n",
    "                hidden_deltas = hidden_errors * self.sigmoid_derivative(hidden_output[1:])\n",
    "\n",
    "            \n",
    "                self.output_weights += self.learning_rate * output_delta * hidden_output\n",
    "                self.hidden_weights += self.learning_rate * np.outer(hidden_deltas, X[i])\n",
    "\n",
    "inputs = np.array([[0,0], [0,1], [1,0], [1,1]])\n",
    "XOR_targets = np.array([0, 1, 1, 0])\n",
    "\n",
    "mlp_xor = MLP(input_size=2, hidden_size=2)\n",
    "mlp_xor.train(inputs, XOR_targets)\n",
    "\n",
    "print(\"\\nMLP for XOR gate\")\n",
    "for i in inputs:\n",
    "    print(f\"Input {i} => Output {mlp_xor.predict(i)}\")"
   ]
  },
  {
   "cell_type": "code",
   "execution_count": null,
   "id": "20e56c64-b42b-4cc0-9020-2fcc560c8e15",
   "metadata": {},
   "outputs": [],
   "source": []
  }
 ],
 "metadata": {
  "kernelspec": {
   "display_name": "Python [conda env:base] *",
   "language": "python",
   "name": "conda-base-py"
  },
  "language_info": {
   "codemirror_mode": {
    "name": "ipython",
    "version": 3
   },
   "file_extension": ".py",
   "mimetype": "text/x-python",
   "name": "python",
   "nbconvert_exporter": "python",
   "pygments_lexer": "ipython3",
   "version": "3.12.7"
  }
 },
 "nbformat": 4,
 "nbformat_minor": 5
}
