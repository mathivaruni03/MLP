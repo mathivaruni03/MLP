{
 "cells": [
  {
   "cell_type": "code",
   "execution_count": 1,
   "id": "b9d71334-b3e9-4012-9534-fcf78e8b21ad",
   "metadata": {},
   "outputs": [
    {
     "name": "stdout",
     "output_type": "stream",
     "text": [
      "Model Accuracy: 97.00%\n"
     ]
    }
   ],
   "source": [
    "from sklearn.neural_network import MLPClassifier \n",
    "from sklearn.datasets import make_moons \n",
    "from sklearn.model_selection import train_test_split \n",
    "from sklearn.metrics import accuracy_score \n",
    "# Generate sample dataset\n",
    "X, y = make_moons(n_samples=1000, noise=0.2, random_state=42) \n",
    "# Split dataset into training and testing sets \n",
    "X_train, X_test, y_train, y_test = train_test_split(X, y, test_size=0.2, random_state=42)\n",
    "# Define MLP model \n",
    "mlp = MLPClassifier(hidden_layer_sizes=(10, 5), activation='relu', solver='adam', max_iter=1000, random_state=42) \n",
    "# Train the model \n",
    "mlp.fit(X_train, y_train) \n",
    "# Make predictions \n",
    "y_pred = mlp.predict(X_test)\n",
    "# Evaluate model accuracy \n",
    "accuracy = accuracy_score(y_test, y_pred) \n",
    "print(f\"Model Accuracy: {accuracy * 100:.2f}%\")"
   ]
  },
  {
   "cell_type": "code",
   "execution_count": null,
   "id": "851fb46e-b536-477b-b93d-75a1bc3acdf0",
   "metadata": {},
   "outputs": [],
   "source": []
  }
 ],
 "metadata": {
  "kernelspec": {
   "display_name": "Python [conda env:base] *",
   "language": "python",
   "name": "conda-base-py"
  },
  "language_info": {
   "codemirror_mode": {
    "name": "ipython",
    "version": 3
   },
   "file_extension": ".py",
   "mimetype": "text/x-python",
   "name": "python",
   "nbconvert_exporter": "python",
   "pygments_lexer": "ipython3",
   "version": "3.12.7"
  }
 },
 "nbformat": 4,
 "nbformat_minor": 5
}
